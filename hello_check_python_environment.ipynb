{
 "cells": [
  {
   "cell_type": "markdown",
   "id": "78aded6d",
   "metadata": {},
   "source": [
    "# Check Python Environment for Essential Libraries"
   ]
  },
  {
   "cell_type": "code",
   "execution_count": 1,
   "id": "57b12af6",
   "metadata": {},
   "outputs": [
    {
     "name": "stdout",
     "output_type": "stream",
     "text": [
      "Python Version:  3.12.7 (tags/v3.12.7:0b05ead, Oct  1 2024, 03:06:41) [MSC v.1941 64 bit (AMD64)]\n",
      "Numpy Version:  2.2.5\n"
     ]
    }
   ],
   "source": [
    "# Basic Prerequisites\n",
    "import sys\n",
    "import numpy as np\n",
    "import pandas as pd\n",
    "import matplotlib.pyplot as plt\n",
    "%matplotlib inline\n",
    "\n",
    "print(\"Python Version: \", sys.version)\n",
    "print(\"Numpy Version: \", np.__version__)\n",
    "np.set_printoptions(precision=3, suppress=True)"
   ]
  },
  {
   "cell_type": "code",
   "execution_count": 2,
   "id": "7527344a",
   "metadata": {},
   "outputs": [
    {
     "name": "stdout",
     "output_type": "stream",
     "text": [
      "Jupyter environment detected. Enabling Open3D WebVisualizer.\n",
      "[Open3D INFO] WebRTC GUI backend enabled.\n",
      "[Open3D INFO] WebRTCWindowSystem: HTTP handshake server disabled.\n",
      "Open3D Version:  0.19.0\n"
     ]
    }
   ],
   "source": [
    "# Check Open3D\n",
    "try:\n",
    "    import open3d as o3d\n",
    "    print(\"Open3D Version: \", o3d.__version__)\n",
    "except ImportError: \n",
    "    print(\"***ERROR: Open3D is not installed.\")\n",
    "    sys.exit(1)"
   ]
  },
  {
   "cell_type": "code",
   "execution_count": 3,
   "id": "5855f79b",
   "metadata": {},
   "outputs": [
    {
     "name": "stdout",
     "output_type": "stream",
     "text": [
      "PyTorch Version:  2.7.0+cu128\n"
     ]
    }
   ],
   "source": [
    "# Check PyTorch\n",
    "try:\n",
    "    import torch\n",
    "    print(\"PyTorch Version: \", torch.__version__)\n",
    "except ImportError: \n",
    "    print(\"***ERROR: PyTorch is not installed.\")\n",
    "    sys.exit(1)  "
   ]
  },
  {
   "cell_type": "code",
   "execution_count": 4,
   "id": "dbee1e43",
   "metadata": {},
   "outputs": [
    {
     "name": "stdout",
     "output_type": "stream",
     "text": [
      "CUDA Version:  12.8\n",
      "PyTorch is using GPU\n",
      "CUDA Device Count:  1\n",
      "CUDA Device Name:  NVIDIA GeForce RTX 3060 Laptop GPU\n"
     ]
    }
   ],
   "source": [
    "# Check CUDA availability\n",
    "if torch.cuda.is_available():\n",
    "    print(\"CUDA Version: \", torch.version.cuda)\n",
    "    print(\"PyTorch is using GPU\")\n",
    "    print(\"CUDA Device Count: \", torch.cuda.device_count())\n",
    "    print(\"CUDA Device Name: \", torch.cuda.get_device_name(0))\n",
    "else:\n",
    "    print(\"CUDA is not available\")\n",
    "    print(\"PyTorch is using CPU\")"
   ]
  },
  {
   "cell_type": "code",
   "execution_count": 5,
   "id": "dd33cf1d",
   "metadata": {},
   "outputs": [
    {
     "name": "stdout",
     "output_type": "stream",
     "text": [
      "Point cloud loaded:  point_clouds/bunny.ply\n"
     ]
    }
   ],
   "source": [
    "# Check loading a point cloud and visualizing it\n",
    "file_name = \"point_clouds/bunny.ply\"\n",
    "pc = o3d.io.read_point_cloud(file_name)\n",
    "print(\"Point cloud loaded: \", file_name)"
   ]
  },
  {
   "cell_type": "code",
   "execution_count": 6,
   "id": "445d4283",
   "metadata": {},
   "outputs": [],
   "source": [
    "# Visualize the point cloud\n",
    "o3d.visualization.draw_geometries([pc], window_name=\"Point Cloud Viewer\", width=800, height=600, left=50, top=50, mesh_show_back_face=True)"
   ]
  },
  {
   "cell_type": "code",
   "execution_count": null,
   "id": "83ff57b9",
   "metadata": {},
   "outputs": [],
   "source": []
  }
 ],
 "metadata": {
  "kernelspec": {
   "display_name": ".venv",
   "language": "python",
   "name": "python3"
  },
  "language_info": {
   "codemirror_mode": {
    "name": "ipython",
    "version": 3
   },
   "file_extension": ".py",
   "mimetype": "text/x-python",
   "name": "python",
   "nbconvert_exporter": "python",
   "pygments_lexer": "ipython3",
   "version": "3.12.7"
  }
 },
 "nbformat": 4,
 "nbformat_minor": 5
}
