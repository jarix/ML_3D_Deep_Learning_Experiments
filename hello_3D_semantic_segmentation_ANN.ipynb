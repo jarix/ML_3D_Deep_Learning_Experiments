{
 "cells": [
  {
   "cell_type": "markdown",
   "id": "b32cc258",
   "metadata": {},
   "source": [
    "# Custom PyTorch Dataset"
   ]
  },
  {
   "cell_type": "code",
   "execution_count": 1,
   "id": "d6724fd7",
   "metadata": {},
   "outputs": [
    {
     "name": "stdout",
     "output_type": "stream",
     "text": [
      "Jupyter environment detected. Enabling Open3D WebVisualizer.\n",
      "[Open3D INFO] WebRTC GUI backend enabled.\n",
      "[Open3D INFO] WebRTCWindowSystem: HTTP handshake server disabled.\n",
      "OS:  Windows-11-10.0.26100-SP0\n",
      "Python Version:  3.12.7 (tags/v3.12.7:0b05ead, Oct  1 2024, 03:06:41) [MSC v.1941 64 bit (AMD64)]\n"
     ]
    }
   ],
   "source": [
    "# Prerequisites:\n",
    "import sys, os, platform \n",
    "import numpy as np\n",
    "import matplotlib.pyplot as plt\n",
    "%matplotlib inline\n",
    "\n",
    "from glob import glob\n",
    "\n",
    "import open3d as o3d\n",
    "\n",
    "import torch\n",
    "from torch.utils.data import DataLoader\n",
    "import torch.nn as nn\n",
    "\n",
    "from my_dataset import CustomDataset\n",
    "\n",
    "print(\"OS: \", platform.platform())\n",
    "print(\"Python Version: \", sys.version)\n"
   ]
  },
  {
   "cell_type": "markdown",
   "id": "6f76d1ac",
   "metadata": {},
   "source": [
    "Check for Cuda availability"
   ]
  },
  {
   "cell_type": "code",
   "execution_count": 2,
   "id": "9edcad8b",
   "metadata": {},
   "outputs": [
    {
     "name": "stdout",
     "output_type": "stream",
     "text": [
      "Using NVIDIA GeForce RTX 3060 Laptop GPU\n"
     ]
    }
   ],
   "source": [
    "if torch.cuda.is_available():\n",
    "    device = torch.device(\"cuda\")\n",
    "    print(f\"Using {torch.cuda.get_device_name(0)}\")\n",
    "else:\n",
    "    device = torch.device(\"cpu\")\n",
    "    print(\"Using CPU\")"
   ]
  },
  {
   "cell_type": "markdown",
   "id": "364d9821",
   "metadata": {},
   "source": [
    "### Create Training, Validation, and Testing point cloud file lists"
   ]
  },
  {
   "cell_type": "code",
   "execution_count": 3,
   "id": "8e9895fc",
   "metadata": {},
   "outputs": [],
   "source": [
    "# Get list of training and testing files\n",
    "project_dir = 'data/aerial_01'\n",
    "pc_train_files = glob(os.path.join(project_dir,\"train/*.txt\"))\n",
    "pc_test_files = glob(os.path.join(project_dir,\"test/*.txt\"))"
   ]
  },
  {
   "cell_type": "code",
   "execution_count": 4,
   "id": "0d4680f1",
   "metadata": {},
   "outputs": [],
   "source": [
    "# Get Validation file set from training set\n",
    "val_index = np.random.choice(len(pc_train_files), int(len(pc_train_files)/5), replace=False)\n",
    "val_list = [pc_train_files[i] for i in val_index]\n",
    "train_list = [pc_train_files[i] for i in np.setdiff1d(list(range(len(pc_train_files))), val_index)]\n",
    "test_list = pc_test_files"
   ]
  },
  {
   "cell_type": "code",
   "execution_count": 5,
   "id": "c18ba531",
   "metadata": {},
   "outputs": [
    {
     "name": "stdout",
     "output_type": "stream",
     "text": [
      "# of training files: 101\n",
      "# of validation files: 25\n",
      "# of test files: 17\n"
     ]
    }
   ],
   "source": [
    "# Check sizes of datasets\n",
    "print(f\"# of training files: {len(train_list)}\")\n",
    "print(f\"# of validation files: {len(val_list)}\")\n",
    "print(f\"# of test files: {len(test_list)}\")"
   ]
  },
  {
   "cell_type": "markdown",
   "id": "ff54106d",
   "metadata": {},
   "source": [
    "### Use CustomDataset class to load them"
   ]
  },
  {
   "cell_type": "code",
   "execution_count": 7,
   "id": "b92ef7c7",
   "metadata": {},
   "outputs": [],
   "source": [
    "nr_points = 4096\n",
    "train_dataset = CustomDataset(train_list, \"xyz\", num_points=nr_points, compute_normals=True)\n",
    "train_loader = DataLoader(train_dataset, batch_size=32, shuffle=True)\n",
    "val_dataset = CustomDataset(val_list, \"xyz\", is_training=False, num_points=nr_points, compute_normals=True)\n",
    "val_loader = DataLoader(val_dataset, batch_size=32, shuffle=True)\n",
    "test_dataset = CustomDataset(test_list, \"xyz\", is_training=False, num_points=nr_points, compute_normals=True)\n",
    "test_loader = DataLoader(test_dataset, batch_size=32, shuffle=True)"
   ]
  },
  {
   "cell_type": "code",
   "execution_count": 8,
   "id": "ba0e34ed",
   "metadata": {},
   "outputs": [
    {
     "name": "stdout",
     "output_type": "stream",
     "text": [
      "Number of classes:  5\n"
     ]
    }
   ],
   "source": [
    "# Check number of classes\n",
    "num_classes = train_dataset.num_classes\n",
    "print(\"Number of classes: \", num_classes)"
   ]
  },
  {
   "cell_type": "markdown",
   "id": "9c239529",
   "metadata": {},
   "source": [
    "### Visualize Dataset"
   ]
  },
  {
   "cell_type": "code",
   "execution_count": null,
   "id": "eddfec85",
   "metadata": {},
   "outputs": [],
   "source": [
    "def visualize_dataset(dataset):\n",
    "    \"\"\"\n",
    "    Visualize the point clouds in the dataset using Open3D.\n",
    "    Args:\n",
    "        dataset (CustomDataset): The dataset containing point clouds.\n",
    "    \"\"\"\n",
    "    pcds = []\n",
    "    nb_pcd = len(dataset)\n",
    "    for i in range(nb_pcd):\n",
    "        point_cloud = dataset.get_data(i)\n",
    "        if isinstance(point_cloud,torch.Tensor):\n",
    "            point_cloud = point_cloud.cpu().numpy()\n",
    "        point_cloud = point_cloud[:3].T\n",
    "        pcd = o3d.geometry.PointCloud()\n",
    "        pcd.points = o3d.utility.Vector3dVector(point_cloud)\n",
    "        pcd.estimate_normals()\n",
    "\n",
    "        random_color = np.random.random((3,))\n",
    "        n = len(pcd.points)\n",
    "        colors = np.tile(random_color,(n,1))\n",
    "        pcd.colors = o3d.utility.Vector3dVector(colors)\n",
    "        pcds.append(pcd)\n",
    "        \n",
    "    o3d.visualization.draw_geometries(pcds)\n",
    "\n",
    "visualize_dataset(test_dataset)"
   ]
  },
  {
   "cell_type": "markdown",
   "id": "2baad282",
   "metadata": {},
   "source": [
    "### Define Training Loop"
   ]
  },
  {
   "cell_type": "code",
   "execution_count": 9,
   "id": "65626075",
   "metadata": {},
   "outputs": [],
   "source": [
    "def train_and_save_model(train_loader, val_loader, num_classes, model, save_path=\"model.pth\", num_epochs=100, learning_rate=0.001):\n",
    "    \"\"\"\n",
    "    Train the model and save it to a file.\n",
    "    \n",
    "    Args:\n",
    "        train_loader (DataLoader): DataLoader for training data.\n",
    "        val_loader (DataLoader): DataLoader for validation data.\n",
    "        num_classes (int): Number of classes in the dataset.\n",
    "        model (torch.nn.Module): The model to be trained.\n",
    "        save_path (str): Path to save the trained model.\n",
    "        num_epochs (int): Number of epochs to train the model.\n",
    "        learning_rate (float): Learning rate for the optimizer.\n",
    "    \"\"\"\n",
    "    # Define loss function and optimizer\n",
    "    criterion = nn.CrossEntropyLoss(ignore_index=-1)  \n",
    "    optimizer = torch.optim.Adam(model.parameters(), lr=learning_rate)\n",
    "\n",
    "    # Training loop\n",
    "    for epoch in range(num_epochs):\n",
    "        model.train()\n",
    "        for batch in train_loader:\n",
    "            # Unpack the batch\n",
    "            inputs, labels, index = batch\n",
    "            p = inputs\n",
    "            # Convert to float and long tensors\n",
    "            p, labels = p.float(), labels.long()\n",
    "            # Move to device\n",
    "            p, labels = p.to(device), labels.to(device)\n",
    "            # Forward pass\n",
    "            seg_pred = model(p)\n",
    "            seg_pred=seg_pred.contiguous().view(-1,num_classes)\n",
    "            labels=labels.view(-1,1)[:,0]\n",
    "            # Compute loss\n",
    "            loss = criterion(seg_pred, labels)\n",
    "            # Backward pass and optimization\n",
    "            optimizer.zero_grad()\n",
    "            loss.backward()\n",
    "            optimizer.step()\n",
    "\n",
    "\n",
    "        # Evaluate the model on the training set\n",
    "        model.eval()\n",
    "        total_correct = 0\n",
    "        total_points = 0\n",
    "            \n",
    "        with torch.no_grad():\n",
    "            for batch in val_loader:\n",
    "                inputs,labels,index = batch\n",
    "                p = inputs\n",
    "                p,labels = p.float(), labels.long()\n",
    "                p,labels = p.to(device), labels.to(device)\n",
    "                seg_pred = model(p)\n",
    "                seg_pred = seg_pred.contiguous().view(-1,num_classes)\n",
    "                labels = labels.view(-1,1)[:,0]\n",
    "                _,predicted = seg_pred.max(1)\n",
    "                total_correct += (predicted==labels).sum().item()\n",
    "                total_points += labels.size(0)\n",
    "        \n",
    "        accuracy = 100*total_correct / total_points\n",
    "        \n",
    "        print(f\"Epoch [{epoch+1}/{num_epochs}], Loss {loss:.4f}, Accuracy: {accuracy:.2f}%\")\n",
    "\n",
    "    # Save the trained model\n",
    "    torch.save(model.state_dict(), save_path)\n",
    "    print(f\"Model saved to {save_path}\")"
   ]
  },
  {
   "cell_type": "markdown",
   "id": "9c8d1114",
   "metadata": {},
   "source": [
    "### Define the ANN"
   ]
  },
  {
   "cell_type": "code",
   "execution_count": 10,
   "id": "d0912ee1",
   "metadata": {},
   "outputs": [],
   "source": [
    "class SimpleNN(nn.Module):\n",
    "    \"\"\"\n",
    "    A simple feedforward neural network for point cloud classification.\n",
    "    Args:\n",
    "        input_channels (int): Number of input channels (features).\n",
    "        num_classes (int): Number of output classes.\n",
    "    \"\"\"\n",
    "\n",
    "    def __init__(self, input_channels,num_classes) -> None:\n",
    "        super(SimpleNN,self).__init__()\n",
    "        self.layer1 = nn.Linear(input_channels,64)\n",
    "        self.layer2 = nn.Linear(64,128)\n",
    "        self.layer3 = nn.Linear(128,num_classes)\n",
    "        \n",
    "    def forward(self,x):\n",
    "        batch_size,channels,num_points = x.shape\n",
    "        x = x.permute(0,2,1).reshape(batch_size*num_points,channels)\n",
    "        x = torch.relu(self.layer1(x))\n",
    "        x = torch.relu(self.layer2(x))\n",
    "        x = self.layer3(x)\n",
    "        return x"
   ]
  },
  {
   "cell_type": "markdown",
   "id": "87de28f0",
   "metadata": {},
   "source": [
    "### Train the model"
   ]
  },
  {
   "cell_type": "code",
   "execution_count": 11,
   "id": "00f9bb99",
   "metadata": {},
   "outputs": [
    {
     "name": "stdout",
     "output_type": "stream",
     "text": [
      "Shape: 6, # of classes: 5\n",
      "Epoch [1/100], Loss 0.7046, Accuracy: 69.81%\n",
      "Epoch [2/100], Loss 0.6737, Accuracy: 69.81%\n",
      "Epoch [3/100], Loss 0.6281, Accuracy: 69.81%\n",
      "Epoch [4/100], Loss 0.6381, Accuracy: 69.81%\n",
      "Epoch [5/100], Loss 0.8205, Accuracy: 69.81%\n",
      "Epoch [6/100], Loss 0.8155, Accuracy: 69.81%\n",
      "Epoch [7/100], Loss 0.7679, Accuracy: 69.81%\n",
      "Epoch [8/100], Loss 0.7527, Accuracy: 69.81%\n",
      "Epoch [9/100], Loss 0.7143, Accuracy: 69.81%\n",
      "Epoch [10/100], Loss 0.7161, Accuracy: 69.81%\n",
      "Epoch [11/100], Loss 0.6096, Accuracy: 69.81%\n",
      "Epoch [12/100], Loss 0.6424, Accuracy: 69.81%\n",
      "Epoch [13/100], Loss 0.6721, Accuracy: 69.81%\n",
      "Epoch [14/100], Loss 0.6669, Accuracy: 69.81%\n",
      "Epoch [15/100], Loss 0.7095, Accuracy: 69.81%\n",
      "Epoch [16/100], Loss 0.6991, Accuracy: 69.81%\n",
      "Epoch [17/100], Loss 0.6485, Accuracy: 69.81%\n",
      "Epoch [18/100], Loss 0.7793, Accuracy: 69.81%\n",
      "Epoch [19/100], Loss 0.5810, Accuracy: 69.81%\n",
      "Epoch [20/100], Loss 0.6581, Accuracy: 69.81%\n",
      "Epoch [21/100], Loss 0.5911, Accuracy: 69.81%\n",
      "Epoch [22/100], Loss 0.8499, Accuracy: 69.81%\n",
      "Epoch [23/100], Loss 0.8102, Accuracy: 69.81%\n",
      "Epoch [24/100], Loss 0.7030, Accuracy: 69.81%\n",
      "Epoch [25/100], Loss 0.7230, Accuracy: 69.81%\n",
      "Epoch [26/100], Loss 0.7305, Accuracy: 69.81%\n",
      "Epoch [27/100], Loss 0.7558, Accuracy: 69.81%\n",
      "Epoch [28/100], Loss 0.5794, Accuracy: 69.81%\n",
      "Epoch [29/100], Loss 0.7860, Accuracy: 69.81%\n",
      "Epoch [30/100], Loss 0.6377, Accuracy: 69.81%\n",
      "Epoch [31/100], Loss 0.5804, Accuracy: 69.81%\n",
      "Epoch [32/100], Loss 0.7387, Accuracy: 69.81%\n",
      "Epoch [33/100], Loss 0.6797, Accuracy: 69.81%\n",
      "Epoch [34/100], Loss 0.6685, Accuracy: 69.81%\n",
      "Epoch [35/100], Loss 0.7212, Accuracy: 69.81%\n",
      "Epoch [36/100], Loss 0.7481, Accuracy: 69.81%\n",
      "Epoch [37/100], Loss 0.7008, Accuracy: 69.81%\n",
      "Epoch [38/100], Loss 0.6924, Accuracy: 69.81%\n",
      "Epoch [39/100], Loss 0.6024, Accuracy: 69.81%\n",
      "Epoch [40/100], Loss 0.7363, Accuracy: 69.81%\n",
      "Epoch [41/100], Loss 0.7495, Accuracy: 69.81%\n",
      "Epoch [42/100], Loss 0.8126, Accuracy: 69.81%\n",
      "Epoch [43/100], Loss 0.7028, Accuracy: 69.81%\n",
      "Epoch [44/100], Loss 0.7612, Accuracy: 69.81%\n",
      "Epoch [45/100], Loss 0.5573, Accuracy: 69.81%\n",
      "Epoch [46/100], Loss 0.7632, Accuracy: 69.81%\n",
      "Epoch [47/100], Loss 0.6100, Accuracy: 69.81%\n",
      "Epoch [48/100], Loss 0.6854, Accuracy: 69.81%\n",
      "Epoch [49/100], Loss 0.6575, Accuracy: 69.81%\n",
      "Epoch [50/100], Loss 0.6382, Accuracy: 69.81%\n",
      "Epoch [51/100], Loss 0.7983, Accuracy: 69.81%\n",
      "Epoch [52/100], Loss 0.6451, Accuracy: 69.81%\n",
      "Epoch [53/100], Loss 0.6763, Accuracy: 69.81%\n",
      "Epoch [54/100], Loss 0.6375, Accuracy: 69.81%\n",
      "Epoch [55/100], Loss 0.6547, Accuracy: 69.81%\n",
      "Epoch [56/100], Loss 0.8657, Accuracy: 69.81%\n",
      "Epoch [57/100], Loss 0.7332, Accuracy: 69.81%\n",
      "Epoch [58/100], Loss 0.6670, Accuracy: 69.81%\n",
      "Epoch [59/100], Loss 0.7510, Accuracy: 69.81%\n",
      "Epoch [60/100], Loss 0.7378, Accuracy: 69.81%\n",
      "Epoch [61/100], Loss 0.5968, Accuracy: 69.81%\n",
      "Epoch [62/100], Loss 0.6184, Accuracy: 69.81%\n",
      "Epoch [63/100], Loss 0.7308, Accuracy: 69.81%\n",
      "Epoch [64/100], Loss 0.6477, Accuracy: 69.81%\n",
      "Epoch [65/100], Loss 0.6677, Accuracy: 69.81%\n",
      "Epoch [66/100], Loss 0.6370, Accuracy: 69.81%\n",
      "Epoch [67/100], Loss 0.7727, Accuracy: 69.81%\n",
      "Epoch [68/100], Loss 0.7548, Accuracy: 69.81%\n",
      "Epoch [69/100], Loss 0.5870, Accuracy: 69.81%\n",
      "Epoch [70/100], Loss 0.6707, Accuracy: 69.81%\n",
      "Epoch [71/100], Loss 0.6757, Accuracy: 69.81%\n",
      "Epoch [72/100], Loss 0.6292, Accuracy: 69.81%\n",
      "Epoch [73/100], Loss 0.7001, Accuracy: 69.81%\n",
      "Epoch [74/100], Loss 0.6327, Accuracy: 69.81%\n",
      "Epoch [75/100], Loss 0.6730, Accuracy: 69.81%\n",
      "Epoch [76/100], Loss 0.7205, Accuracy: 69.81%\n",
      "Epoch [77/100], Loss 0.6744, Accuracy: 69.81%\n",
      "Epoch [78/100], Loss 0.7395, Accuracy: 69.81%\n",
      "Epoch [79/100], Loss 0.6451, Accuracy: 69.81%\n",
      "Epoch [80/100], Loss 0.6926, Accuracy: 69.81%\n",
      "Epoch [81/100], Loss 0.6863, Accuracy: 69.81%\n",
      "Epoch [82/100], Loss 0.8225, Accuracy: 69.81%\n",
      "Epoch [83/100], Loss 0.7293, Accuracy: 69.81%\n",
      "Epoch [84/100], Loss 0.6991, Accuracy: 69.81%\n",
      "Epoch [85/100], Loss 0.8812, Accuracy: 69.81%\n",
      "Epoch [86/100], Loss 0.7295, Accuracy: 69.81%\n",
      "Epoch [87/100], Loss 0.6328, Accuracy: 69.81%\n",
      "Epoch [88/100], Loss 0.8741, Accuracy: 69.81%\n",
      "Epoch [89/100], Loss 0.6079, Accuracy: 69.81%\n",
      "Epoch [90/100], Loss 0.7556, Accuracy: 69.81%\n",
      "Epoch [91/100], Loss 0.5993, Accuracy: 69.81%\n",
      "Epoch [92/100], Loss 0.7252, Accuracy: 69.81%\n",
      "Epoch [93/100], Loss 0.7129, Accuracy: 69.81%\n",
      "Epoch [94/100], Loss 0.7577, Accuracy: 69.81%\n",
      "Epoch [95/100], Loss 0.6897, Accuracy: 69.81%\n",
      "Epoch [96/100], Loss 0.6060, Accuracy: 69.81%\n",
      "Epoch [97/100], Loss 0.5817, Accuracy: 69.81%\n",
      "Epoch [98/100], Loss 0.5614, Accuracy: 69.82%\n",
      "Epoch [99/100], Loss 0.7171, Accuracy: 69.81%\n",
      "Epoch [100/100], Loss 0.7924, Accuracy: 69.81%\n",
      "Model saved to hello_3D_sem_seg.pth\n"
     ]
    }
   ],
   "source": [
    "num_classes = train_loader.dataset.num_classes\n",
    "print(f\"Shape: {train_loader.dataset[0][0].shape[0]}, # of classes: {num_classes}\")\n",
    "\n",
    "# Instantiate the model\n",
    "model = SimpleNN(train_loader.dataset[0][0].shape[0], num_classes)\n",
    "model.to(device)\n",
    "\n",
    "# Train and save the model\n",
    "train_and_save_model(train_loader, val_loader, num_classes, model, save_path=\"hello_3D_sem_seg.pth\")"
   ]
  },
  {
   "cell_type": "code",
   "execution_count": null,
   "id": "8f2fd552",
   "metadata": {},
   "outputs": [],
   "source": []
  }
 ],
 "metadata": {
  "kernelspec": {
   "display_name": ".venv",
   "language": "python",
   "name": "python3"
  },
  "language_info": {
   "codemirror_mode": {
    "name": "ipython",
    "version": 3
   },
   "file_extension": ".py",
   "mimetype": "text/x-python",
   "name": "python",
   "nbconvert_exporter": "python",
   "pygments_lexer": "ipython3",
   "version": "3.12.7"
  }
 },
 "nbformat": 4,
 "nbformat_minor": 5
}
